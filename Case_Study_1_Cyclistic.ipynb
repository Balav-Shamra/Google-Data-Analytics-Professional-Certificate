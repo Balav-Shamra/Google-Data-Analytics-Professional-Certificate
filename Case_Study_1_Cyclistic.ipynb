{
  "nbformat": 4,
  "nbformat_minor": 0,
  "metadata": {
    "colab": {
      "provenance": [],
      "authorship_tag": "ABX9TyOdEFtE5fgePMOBrt9FKNPJ",
      "include_colab_link": true
    },
    "kernelspec": {
      "name": "python3",
      "display_name": "Python 3"
    },
    "language_info": {
      "name": "python"
    }
  },
  "cells": [
    {
      "cell_type": "markdown",
      "metadata": {
        "id": "view-in-github",
        "colab_type": "text"
      },
      "source": [
        "<a href=\"https://colab.research.google.com/github/Balav-Shamra/Google-Data-Analytics-Professional-Certificate/blob/main/Case_Study_1_Cyclistic.ipynb\" target=\"_parent\"><img src=\"https://colab.research.google.com/assets/colab-badge.svg\" alt=\"Open In Colab\"/></a>"
      ]
    },
    {
      "cell_type": "markdown",
      "source": [
        "# **Case Study 1: Cyclistic-Bike Share Analysis**"
      ],
      "metadata": {
        "id": "gdx7XVD1GFN4"
      }
    },
    {
      "cell_type": "code",
      "execution_count": null,
      "metadata": {
        "id": "OkYa-T0bF3q-"
      },
      "outputs": [],
      "source": []
    }
  ]
}